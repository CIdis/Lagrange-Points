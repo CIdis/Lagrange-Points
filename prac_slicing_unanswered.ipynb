{
 "cells": [
  {
   "cell_type": "markdown",
   "metadata": {},
   "source": [
    "# Coding practical: Indexing and Slicing\n",
    "\n",
    "### General guidelines:\n",
    "* Make sure to put your name in the body of the notebook, and in the filename.\n",
    "* You may discuss these problems with other students in class, but you must turn in your own notebook.\n",
    "* List anyone with whom you discussed the work.\n",
    "* Please document your code, label your plots, and use markdown cells to add explanatory comments to the notebook.\n",
    "* Save your notebook as a pdf file and submit it in Canvas before the deadline.\n",
    "\n",
    "You may not distribute this notebook beyond our class, or post it anywhere online, without permission from the instructor."
   ]
  },
  {
   "cell_type": "code",
   "execution_count": 1,
   "metadata": {
    "ExecuteTime": {
     "end_time": "2020-12-10T18:55:51.151029Z",
     "start_time": "2020-12-10T18:55:51.127094Z"
    }
   },
   "outputs": [
    {
     "name": "stdout",
     "output_type": "stream",
     "text": [
      "Pretty printing has been turned OFF\n"
     ]
    }
   ],
   "source": [
    "# We are turning Jupyter's pretty-print feature off so that lists\n",
    "# containing a mix of numbers and strings are still printed in a row\n",
    "%pprint"
   ]
  },
  {
   "cell_type": "markdown",
   "metadata": {},
   "source": [
    "## Indexing\n",
    "If I have a list, I can use indexing to access a specific element of that list"
   ]
  },
  {
   "cell_type": "code",
   "execution_count": 2,
   "metadata": {
    "ExecuteTime": {
     "end_time": "2020-12-10T18:55:51.166986Z",
     "start_time": "2020-12-10T18:55:51.152026Z"
    }
   },
   "outputs": [
    {
     "data": {
      "text/plain": [
       "5"
      ]
     },
     "execution_count": 2,
     "metadata": {},
     "output_type": "execute_result"
    }
   ],
   "source": [
    "mylist = [0,1,2,3,4,5,6,7,8,9,10,11,12,13,14,15,16,17,18,19]\n",
    "mylist[5]"
   ]
  },
  {
   "cell_type": "markdown",
   "metadata": {},
   "source": [
    "### Negative indices\n",
    "If I put a negative number, then Python counts from the end of the list. One thing to note is that negative indices start on -1, not -0; i.e. the last element of a list has an index of -1."
   ]
  },
  {
   "cell_type": "code",
   "execution_count": 3,
   "metadata": {
    "ExecuteTime": {
     "end_time": "2020-12-10T18:55:51.182943Z",
     "start_time": "2020-12-10T18:55:51.168981Z"
    }
   },
   "outputs": [
    {
     "data": {
      "text/plain": [
       "12"
      ]
     },
     "execution_count": 3,
     "metadata": {},
     "output_type": "execute_result"
    }
   ],
   "source": [
    "mylist[-8]"
   ]
  },
  {
   "cell_type": "markdown",
   "metadata": {},
   "source": [
    "## Slicing\n",
    "I can also use a similar method to select a subset of the list; this is called **slicing**. The syntax for this is [start : stop : step]. Start is the first element included in the subset. Stop is the first element **not** included in the subset. Step determines how many elements to skip over; i.e. it chooses every nth element of the list in between start and end."
   ]
  },
  {
   "cell_type": "code",
   "execution_count": 4,
   "metadata": {
    "ExecuteTime": {
     "end_time": "2020-12-10T18:55:51.198901Z",
     "start_time": "2020-12-10T18:55:51.183941Z"
    }
   },
   "outputs": [
    {
     "data": {
      "text/plain": [
       "[2, 3, 4, 5, 6, 7, 8, 9, 10, 11, 12, 13, 14, 15]"
      ]
     },
     "execution_count": 4,
     "metadata": {},
     "output_type": "execute_result"
    }
   ],
   "source": [
    "mylist[2:16]"
   ]
  },
  {
   "cell_type": "markdown",
   "metadata": {},
   "source": [
    "Notice that 8 is not included in the subset."
   ]
  },
  {
   "cell_type": "code",
   "execution_count": 5,
   "metadata": {
    "ExecuteTime": {
     "end_time": "2020-12-10T18:55:51.214858Z",
     "start_time": "2020-12-10T18:55:51.199899Z"
    }
   },
   "outputs": [
    {
     "data": {
      "text/plain": [
       "[1, 3, 5, 7, 9, 11]"
      ]
     },
     "execution_count": 5,
     "metadata": {},
     "output_type": "execute_result"
    }
   ],
   "source": [
    "mylist[1:13:2]"
   ]
  },
  {
   "cell_type": "code",
   "execution_count": 6,
   "metadata": {
    "ExecuteTime": {
     "end_time": "2020-12-10T18:55:51.230814Z",
     "start_time": "2020-12-10T18:55:51.215855Z"
    }
   },
   "outputs": [
    {
     "data": {
      "text/plain": [
       "[2, 5, 8, 11, 14, 17]"
      ]
     },
     "execution_count": 6,
     "metadata": {},
     "output_type": "execute_result"
    }
   ],
   "source": [
    "mylist[2:18:3]"
   ]
  },
  {
   "cell_type": "markdown",
   "metadata": {},
   "source": [
    "### Negative inputs\n",
    "Just like with negative indices, putting a negative number in a slice means Python will count backwards. A negative step will still choose every nth element, but it will choose them right to left, meaning that your start must be higher than your stop."
   ]
  },
  {
   "cell_type": "code",
   "execution_count": 7,
   "metadata": {
    "ExecuteTime": {
     "end_time": "2020-12-10T18:55:51.246773Z",
     "start_time": "2020-12-10T18:55:51.231824Z"
    }
   },
   "outputs": [
    {
     "data": {
      "text/plain": [
       "[6, 7, 8, 9, 10, 11, 12, 13, 14]"
      ]
     },
     "execution_count": 7,
     "metadata": {},
     "output_type": "execute_result"
    }
   ],
   "source": [
    "mylist[6:-5]"
   ]
  },
  {
   "cell_type": "code",
   "execution_count": 8,
   "metadata": {
    "ExecuteTime": {
     "end_time": "2020-12-10T18:55:51.262730Z",
     "start_time": "2020-12-10T18:55:51.248767Z"
    }
   },
   "outputs": [
    {
     "data": {
      "text/plain": [
       "[12, 13, 14, 15]"
      ]
     },
     "execution_count": 8,
     "metadata": {},
     "output_type": "execute_result"
    }
   ],
   "source": [
    "mylist[-8:-4]"
   ]
  },
  {
   "cell_type": "code",
   "execution_count": 9,
   "metadata": {
    "ExecuteTime": {
     "end_time": "2020-12-10T18:55:51.278687Z",
     "start_time": "2020-12-10T18:55:51.264725Z"
    }
   },
   "outputs": [
    {
     "data": {
      "text/plain": [
       "[]"
      ]
     },
     "execution_count": 9,
     "metadata": {},
     "output_type": "execute_result"
    }
   ],
   "source": [
    "mylist[3:-5:-1]"
   ]
  },
  {
   "cell_type": "markdown",
   "metadata": {},
   "source": [
    "This returns an empty list because it starts at 3 and tries to count backwards to 15 (the 5th to last element). If we want to count backwards, we need to start at 15 and stop at 3."
   ]
  },
  {
   "cell_type": "code",
   "execution_count": 10,
   "metadata": {
    "ExecuteTime": {
     "end_time": "2020-12-10T18:55:51.294644Z",
     "start_time": "2020-12-10T18:55:51.281680Z"
    }
   },
   "outputs": [
    {
     "data": {
      "text/plain": [
       "[15, 14, 13, 12, 11, 10, 9, 8, 7, 6, 5, 4]"
      ]
     },
     "execution_count": 10,
     "metadata": {},
     "output_type": "execute_result"
    }
   ],
   "source": [
    "mylist[-5:3:-1]"
   ]
  },
  {
   "cell_type": "markdown",
   "metadata": {},
   "source": [
    "### Only use what you need\n",
    "You don't have to enter a value for start, stop, and step every time you want a subset of a list. If you do not enter a start, Python will start with the first element of the list. If you do not enter a stop, Python will go up to and include the lass element of the list. If you do not enter a step, Python will use a step of 1."
   ]
  },
  {
   "cell_type": "code",
   "execution_count": 11,
   "metadata": {
    "ExecuteTime": {
     "end_time": "2020-12-10T18:55:51.309604Z",
     "start_time": "2020-12-10T18:55:51.295642Z"
    }
   },
   "outputs": [
    {
     "data": {
      "text/plain": [
       "[5, 6, 7, 8, 9, 10, 11, 12, 13, 14, 15, 16, 17, 18, 19]"
      ]
     },
     "execution_count": 11,
     "metadata": {},
     "output_type": "execute_result"
    }
   ],
   "source": [
    "mylist[5:]"
   ]
  },
  {
   "cell_type": "code",
   "execution_count": 12,
   "metadata": {
    "ExecuteTime": {
     "end_time": "2020-12-10T18:55:51.324564Z",
     "start_time": "2020-12-10T18:55:51.310602Z"
    }
   },
   "outputs": [
    {
     "data": {
      "text/plain": [
       "[0, 1, 2, 3, 4, 5, 6, 7, 8, 9, 10, 11, 12]"
      ]
     },
     "execution_count": 12,
     "metadata": {},
     "output_type": "execute_result"
    }
   ],
   "source": [
    "mylist[:-7]"
   ]
  },
  {
   "cell_type": "code",
   "execution_count": 13,
   "metadata": {
    "ExecuteTime": {
     "end_time": "2020-12-10T18:55:51.340521Z",
     "start_time": "2020-12-10T18:55:51.325562Z"
    }
   },
   "outputs": [
    {
     "data": {
      "text/plain": [
       "[18, 16, 14, 12, 10, 8, 6, 4, 2, 0]"
      ]
     },
     "execution_count": 13,
     "metadata": {},
     "output_type": "execute_result"
    }
   ],
   "source": [
    "mylist[-2::-2]"
   ]
  },
  {
   "cell_type": "markdown",
   "metadata": {},
   "source": [
    "## Exercises Part 1"
   ]
  },
  {
   "cell_type": "code",
   "execution_count": 14,
   "metadata": {
    "ExecuteTime": {
     "end_time": "2020-12-10T18:55:51.356479Z",
     "start_time": "2020-12-10T18:55:51.341519Z"
    }
   },
   "outputs": [],
   "source": [
    "import string\n",
    "uppercase = list(string.ascii_uppercase)"
   ]
  },
  {
   "cell_type": "markdown",
   "metadata": {},
   "source": [
    "I've created the variable uppercase for you; it is a list containing the uppercase letters of the alphabet. You can print it to see for yourself if you like. Using the indexing methods I described above, I would like you to output the following  subsets of uppercase:\n",
    "* the first 6 letters of the alphabet\n",
    "* the last 5 letters of the alphabet\n",
    "* every third letter starting with B\n",
    "* in reverse order, every other letter between the third letter and the fourth to last letter (include both ends)\n",
    "\n",
    "Make sure to not make any changes to uppercase here, we are just printing subsets"
   ]
  },
  {
   "cell_type": "code",
   "execution_count": null,
   "metadata": {
    "ExecuteTime": {
     "end_time": "2020-12-10T18:52:50.438006Z",
     "start_time": "2020-12-10T18:52:50.424002Z"
    }
   },
   "outputs": [],
   "source": []
  },
  {
   "cell_type": "code",
   "execution_count": null,
   "metadata": {
    "ExecuteTime": {
     "end_time": "2020-12-10T18:52:50.453960Z",
     "start_time": "2020-12-10T18:52:50.439960Z"
    }
   },
   "outputs": [],
   "source": []
  },
  {
   "cell_type": "code",
   "execution_count": null,
   "metadata": {
    "ExecuteTime": {
     "end_time": "2020-12-10T18:52:50.469879Z",
     "start_time": "2020-12-10T18:52:50.454920Z"
    }
   },
   "outputs": [],
   "source": []
  },
  {
   "cell_type": "code",
   "execution_count": null,
   "metadata": {
    "ExecuteTime": {
     "end_time": "2020-12-10T18:52:50.484843Z",
     "start_time": "2020-12-10T18:52:50.471873Z"
    }
   },
   "outputs": [],
   "source": []
  },
  {
   "cell_type": "markdown",
   "metadata": {},
   "source": [
    "### Reassignment\n",
    "Slicing can be used to change the elements of a list. This can even change the length of a list.\n",
    "\n",
    "Note that I use Python's copy function so that I am not changing mylist."
   ]
  },
  {
   "cell_type": "code",
   "execution_count": 15,
   "metadata": {
    "ExecuteTime": {
     "end_time": "2020-12-10T18:55:51.371440Z",
     "start_time": "2020-12-10T18:55:51.357476Z"
    }
   },
   "outputs": [
    {
     "data": {
      "text/plain": [
       "[0, 'i', 'ii', 'iii', 'iv', 5, 6, 7, 8, 9, 10, 11, 12, 13, 14, 15, 16, 17, 18, 19]"
      ]
     },
     "execution_count": 15,
     "metadata": {},
     "output_type": "execute_result"
    }
   ],
   "source": [
    "mylist2 = mylist.copy()\n",
    "mylist2[1:5] = ['i', 'ii', 'iii', 'iv']\n",
    "mylist2"
   ]
  },
  {
   "cell_type": "code",
   "execution_count": 16,
   "metadata": {
    "ExecuteTime": {
     "end_time": "2020-12-10T18:55:51.387396Z",
     "start_time": "2020-12-10T18:55:51.373435Z"
    }
   },
   "outputs": [
    {
     "data": {
      "text/plain": [
       "[0, 1, 2, 3, 4, 'UwU', 10, 11, 12, 13, 14, 15, 16, 17, 18, 19]"
      ]
     },
     "execution_count": 16,
     "metadata": {},
     "output_type": "execute_result"
    }
   ],
   "source": [
    "mylist3 = mylist.copy()\n",
    "mylist3[5:10] = ['UwU']\n",
    "mylist3"
   ]
  },
  {
   "cell_type": "markdown",
   "metadata": {},
   "source": [
    "We can even use this to delete elements from a list entirely by assigning the subset to an empty list."
   ]
  },
  {
   "cell_type": "code",
   "execution_count": 17,
   "metadata": {
    "ExecuteTime": {
     "end_time": "2020-12-10T18:55:51.402356Z",
     "start_time": "2020-12-10T18:55:51.388394Z"
    }
   },
   "outputs": [
    {
     "data": {
      "text/plain": [
       "[0, 1, 2, 3, 4, 5, 6, 7, 8, 9, 10, 11, 12, 13, 18, 19]"
      ]
     },
     "execution_count": 17,
     "metadata": {},
     "output_type": "execute_result"
    }
   ],
   "source": [
    "mylist4 = mylist.copy()\n",
    "mylist4[14:-2] = []\n",
    "mylist4"
   ]
  },
  {
   "cell_type": "markdown",
   "metadata": {},
   "source": [
    "You have to be careful when using a step other than 1 in the case of reassignment, though. If you have a subset of a list that used a step in the slice, you must assign it to another list with the same length, otherwise you will get an error."
   ]
  },
  {
   "cell_type": "code",
   "execution_count": 18,
   "metadata": {
    "ExecuteTime": {
     "end_time": "2020-12-10T18:55:51.498101Z",
     "start_time": "2020-12-10T18:55:51.403354Z"
    }
   },
   "outputs": [
    {
     "ename": "ValueError",
     "evalue": "attempt to assign sequence of size 2 to extended slice of size 10",
     "output_type": "error",
     "traceback": [
      "\u001b[1;31m---------------------------------------------------------------------------\u001b[0m",
      "\u001b[1;31mValueError\u001b[0m                                Traceback (most recent call last)",
      "\u001b[1;32m<ipython-input-18-88832058adc7>\u001b[0m in \u001b[0;36m<module>\u001b[1;34m\u001b[0m\n\u001b[0;32m      1\u001b[0m \u001b[0mmylist5\u001b[0m \u001b[1;33m=\u001b[0m \u001b[0mmylist\u001b[0m\u001b[1;33m.\u001b[0m\u001b[0mcopy\u001b[0m\u001b[1;33m(\u001b[0m\u001b[1;33m)\u001b[0m\u001b[1;33m\u001b[0m\u001b[1;33m\u001b[0m\u001b[0m\n\u001b[1;32m----> 2\u001b[1;33m \u001b[0mmylist5\u001b[0m\u001b[1;33m[\u001b[0m\u001b[1;33m:\u001b[0m\u001b[1;33m:\u001b[0m\u001b[1;36m2\u001b[0m\u001b[1;33m]\u001b[0m \u001b[1;33m=\u001b[0m \u001b[1;33m[\u001b[0m\u001b[1;36m0\u001b[0m\u001b[1;33m,\u001b[0m\u001b[1;36m0\u001b[0m\u001b[1;33m]\u001b[0m\u001b[1;33m\u001b[0m\u001b[1;33m\u001b[0m\u001b[0m\n\u001b[0m",
      "\u001b[1;31mValueError\u001b[0m: attempt to assign sequence of size 2 to extended slice of size 10"
     ]
    }
   ],
   "source": [
    "mylist5 = mylist.copy()\n",
    "mylist5[::2] = [0,0]"
   ]
  },
  {
   "cell_type": "code",
   "execution_count": 19,
   "metadata": {
    "ExecuteTime": {
     "end_time": "2020-12-10T18:55:57.319695Z",
     "start_time": "2020-12-10T18:55:57.314734Z"
    }
   },
   "outputs": [
    {
     "data": {
      "text/plain": [
       "[0, 1, 0, 3, 0, 5, 0, 7, 0, 9, 0, 11, 0, 13, 0, 15, 0, 17, 0, 19]"
      ]
     },
     "execution_count": 19,
     "metadata": {},
     "output_type": "execute_result"
    }
   ],
   "source": [
    "mylist5[::2] = [0,0,0,0,0,0,0,0,0,0]\n",
    "mylist5"
   ]
  },
  {
   "cell_type": "markdown",
   "metadata": {},
   "source": [
    "### Chaining slices and indices\n",
    "Since a slice of a list returns a list, we can apply index or even another slice to the list produced by the first slice."
   ]
  },
  {
   "cell_type": "code",
   "execution_count": 20,
   "metadata": {
    "ExecuteTime": {
     "end_time": "2020-12-10T18:55:57.677379Z",
     "start_time": "2020-12-10T18:55:57.673390Z"
    }
   },
   "outputs": [
    {
     "data": {
      "text/plain": [
       "11"
      ]
     },
     "execution_count": 20,
     "metadata": {},
     "output_type": "execute_result"
    }
   ],
   "source": [
    "mylist[3:-5:2][4]"
   ]
  },
  {
   "cell_type": "code",
   "execution_count": 21,
   "metadata": {
    "ExecuteTime": {
     "end_time": "2020-12-10T18:55:57.834423Z",
     "start_time": "2020-12-10T18:55:57.817442Z"
    }
   },
   "outputs": [
    {
     "data": {
      "text/plain": [
       "[8, 10, 12, 14]"
      ]
     },
     "execution_count": 21,
     "metadata": {},
     "output_type": "execute_result"
    }
   ],
   "source": [
    "mylist[5:-5][3::2]"
   ]
  },
  {
   "cell_type": "markdown",
   "metadata": {},
   "source": [
    "Note: it is usually the case that the output of a chain of slices can be achieved with a single slice"
   ]
  },
  {
   "cell_type": "code",
   "execution_count": 22,
   "metadata": {
    "ExecuteTime": {
     "end_time": "2020-12-10T18:55:58.226272Z",
     "start_time": "2020-12-10T18:55:58.209374Z"
    }
   },
   "outputs": [
    {
     "data": {
      "text/plain": [
       "True"
      ]
     },
     "execution_count": 22,
     "metadata": {},
     "output_type": "execute_result"
    }
   ],
   "source": [
    "mylist[8:-5:2] == mylist[5:-5][3::2]"
   ]
  },
  {
   "cell_type": "markdown",
   "metadata": {},
   "source": [
    "### Slice objects\n",
    "A slice can be saved as an object (a slice object) so that we can apply it to multiple lists at a later time. We do this using the functions slice(start,stop,step). Note that we since this is a function, if we don't want to eneter a value for start, stop, or step, we have to put the Python keyword None."
   ]
  },
  {
   "cell_type": "code",
   "execution_count": 23,
   "metadata": {
    "ExecuteTime": {
     "end_time": "2020-12-10T18:55:58.523713Z",
     "start_time": "2020-12-10T18:55:58.508727Z"
    }
   },
   "outputs": [],
   "source": [
    "even = slice(None,None,2)\n",
    "reverse_odd = slice(None,None,-2)\n",
    "six_to_fourteen = slice(6,14,None)"
   ]
  },
  {
   "cell_type": "code",
   "execution_count": 24,
   "metadata": {
    "ExecuteTime": {
     "end_time": "2020-12-10T18:55:58.696323Z",
     "start_time": "2020-12-10T18:55:58.677722Z"
    }
   },
   "outputs": [
    {
     "data": {
      "text/plain": [
       "[0, 2, 4, 6, 8, 10, 12, 14, 16, 18]"
      ]
     },
     "execution_count": 24,
     "metadata": {},
     "output_type": "execute_result"
    }
   ],
   "source": [
    "mylist[even]"
   ]
  },
  {
   "cell_type": "code",
   "execution_count": 25,
   "metadata": {
    "ExecuteTime": {
     "end_time": "2020-12-10T18:55:58.898817Z",
     "start_time": "2020-12-10T18:55:58.893803Z"
    }
   },
   "outputs": [
    {
     "data": {
      "text/plain": [
       "[19, 17, 15, 13, 11, 9, 7, 5, 'iii', 'i']"
      ]
     },
     "execution_count": 25,
     "metadata": {},
     "output_type": "execute_result"
    }
   ],
   "source": [
    "mylist2[reverse_odd]"
   ]
  },
  {
   "cell_type": "code",
   "execution_count": 26,
   "metadata": {
    "ExecuteTime": {
     "end_time": "2020-12-10T18:55:59.117958Z",
     "start_time": "2020-12-10T18:55:59.113968Z"
    }
   },
   "outputs": [
    {
     "data": {
      "text/plain": [
       "[6, 7, 8, 9, 10, 11, 12, 13]"
      ]
     },
     "execution_count": 26,
     "metadata": {},
     "output_type": "execute_result"
    }
   ],
   "source": [
    "mylist[six_to_fourteen]"
   ]
  },
  {
   "cell_type": "markdown",
   "metadata": {},
   "source": [
    "## Exercises Part 2"
   ]
  },
  {
   "cell_type": "code",
   "execution_count": 27,
   "metadata": {
    "ExecuteTime": {
     "end_time": "2020-12-10T18:55:59.923307Z",
     "start_time": "2020-12-10T18:55:59.917350Z"
    }
   },
   "outputs": [],
   "source": [
    "lowercase = list(string.ascii_lowercase)"
   ]
  },
  {
   "cell_type": "markdown",
   "metadata": {},
   "source": [
    "In addition the list of uppercase letters of the alphabet, I have now also created the list lowercase, which contains the lowercase letters of the alphabet. Now I want you to do the following things in order:\n",
    "1. Create a slice object that selects the last 16 elements of a list and save it as a variable.\n",
    "2. Use the slice object you just created to select the first 5 letters of the last 16 letters of lowercase (you will need to chain slices). Save this list as a new variable and print this list.\n",
    "3. Figure out how to write the two slices you used in step 2 as a single slice. Then use your new slice and the list you created in step 2 to replace (reassign) the letters in uppercase with their corresponding lowercase letters. Then print uppercase."
   ]
  },
  {
   "cell_type": "code",
   "execution_count": null,
   "metadata": {
    "ExecuteTime": {
     "end_time": "2020-12-10T18:52:59.325560Z",
     "start_time": "2020-12-10T18:52:59.320547Z"
    }
   },
   "outputs": [],
   "source": []
  },
  {
   "cell_type": "code",
   "execution_count": null,
   "metadata": {
    "ExecuteTime": {
     "end_time": "2020-12-10T18:52:59.526121Z",
     "start_time": "2020-12-10T18:52:59.517145Z"
    }
   },
   "outputs": [],
   "source": []
  },
  {
   "cell_type": "code",
   "execution_count": null,
   "metadata": {
    "ExecuteTime": {
     "end_time": "2020-12-10T18:53:01.053227Z",
     "start_time": "2020-12-10T18:53:01.037299Z"
    }
   },
   "outputs": [],
   "source": []
  }
 ],
 "metadata": {
  "kernelspec": {
   "display_name": "Python 3",
   "language": "python",
   "name": "python3"
  },
  "language_info": {
   "codemirror_mode": {
    "name": "ipython",
    "version": 3
   },
   "file_extension": ".py",
   "mimetype": "text/x-python",
   "name": "python",
   "nbconvert_exporter": "python",
   "pygments_lexer": "ipython3",
   "version": "3.7.9"
  }
 },
 "nbformat": 4,
 "nbformat_minor": 4
}
