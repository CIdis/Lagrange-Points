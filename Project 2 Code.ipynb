{
 "cells": [
  {
   "cell_type": "code",
   "execution_count": 1,
   "metadata": {},
   "outputs": [],
   "source": [
    "import numpy as np\n",
    "import matplotlib.pyplot as plt\n",
    "%matplotlib inline\n",
    "from scipy import integrate"
   ]
  },
  {
   "cell_type": "code",
   "execution_count": 2,
   "metadata": {},
   "outputs": [],
   "source": [
    "plt.rcParams.update({'font.size': 16, 'text.usetex': True})"
   ]
  },
  {
   "cell_type": "markdown",
   "metadata": {},
   "source": [
    "## FUNCTIONS"
   ]
  },
  {
   "cell_type": "code",
   "execution_count": 3,
   "metadata": {},
   "outputs": [],
   "source": [
    "#Here is where we define the 3-body problem\n",
    "\n",
    "\n",
    "def df_3body_ast(vec,t,M1,M2,M3,G):\n",
    "    x1 = vec[0]\n",
    "    y1 = vec[1]\n",
    "    z1 = vec[2]\n",
    "    vx1 = vec[3]\n",
    "    vy1 = vec[4]\n",
    "    vz1 = vec[5]\n",
    "    x2 = vec[6]\n",
    "    y2 = vec[7]\n",
    "    z2 = vec[8]\n",
    "    vx2 = vec[9]\n",
    "    vy2 = vec[10]\n",
    "    vz2 = vec[11]\n",
    "    x3 = vec[12]\n",
    "    y3 = vec[13]\n",
    "    z3 = vec[14]\n",
    "    vx3 = vec[15]\n",
    "    vy3 = vec[16]\n",
    "    vz3 = vec[17]\n",
    "    \n",
    "    #Distance functions\n",
    "    \n",
    "    x12 = x2 - x1\n",
    "    y12 = y2- y1\n",
    "    z12 = z2 - z1\n",
    "    x13 = x3 - x1\n",
    "    y13 = y3- y1\n",
    "    z13 = z3 - z1\n",
    "    x23 = x3 - x2\n",
    "    y23 = y3 - y2\n",
    "    z23 = z3 - z2\n",
    "    \n",
    "    r12 = np.sqrt(x12**2+y12**2+z12**2)\n",
    "    r13 = np.sqrt(x13**2+y13**2+z13**2)\n",
    "    r23 = np.sqrt(x23**2+y23**2+z23**2)\n",
    "    x21, y21, z21, r21 = (-x12, -y12, -z12, r12)\n",
    "    x31, y31, z31, r31 = (-x13, -y13, -z13, r13)\n",
    "    x32, y32, z32, r32 = (-x23, -y23, -z23, r23)\n",
    "\n",
    "    \n",
    "    #Force and velocity stuff\n",
    "    \n",
    "    dvec = np.zeros(len(vec))\n",
    "    dvec[0] = vx1\n",
    "    dvec[1] = vy1\n",
    "    dvec[2] = vz1\n",
    "    dvec[3] = G * M2 / r12**3 * x12 + G * M3 / r13**3 * x13\n",
    "    dvec[4] = G * M2 / r12**3 * y12 + G * M3 / r13**3 * y13\n",
    "    dvec[5] = G * M2 / r12**3 * z12 + G * M3 / r13**3 * z13\n",
    "    dvec[6] = vx2\n",
    "    dvec[7] = vy2\n",
    "    dvec[8] = vz2\n",
    "    dvec[9] = G * M1 / r21**3 * x21 + G * M3 / r23**3 * x23\n",
    "    dvec[10] = G * M1 / r21**3 * y21 + G * M3 / r23**3 * y23\n",
    "    dvec[11] = G * M1 / r21**3 * z21 + G * M3 / r23**3 * z23\n",
    "    dvec[12] = vx3\n",
    "    dvec[13] = vy3\n",
    "    dvec[14] = vz3\n",
    "    dvec[15] = G * M1 / r31**3 * x31 + G * M2 / r32**3 * x32\n",
    "    dvec[16] = G * M1 / r31**3 * y31 + G * M2 / r32**3 * y32\n",
    "    dvec[17] = G * M1 / r31**3 * z31 + G * M2 / r32**3 * z32\n",
    "    return dvec"
   ]
  },
  {
   "cell_type": "code",
   "execution_count": 4,
   "metadata": {},
   "outputs": [],
   "source": [
    "#This will correct the orbits so that it follow the Center of Mass \n",
    "\n",
    "def CoM(vec0, M1, M2, M3):\n",
    "    marr = np.array([M1, M2, M3])\n",
    "    rarr = np.array([vec0[6*i:6*i+3] for i in range(3)])\n",
    "    varr = np.array([vec0[6*i+3:6*i+6] for i in range(3)])\n",
    "    \n",
    "    rcom = np.dot(marr, rarr) / np.sum(marr)\n",
    "    vcom = np.dot(marr, varr) / np.sum(marr)\n",
    "    \n",
    "    rarr = rarr - rcom\n",
    "    varr = varr - vcom\n",
    "    \n",
    "    vec0 = np.array([rarr[0], varr[0], rarr[1], varr[1], rarr[2], varr[2]]).flatten()\n",
    "    return vec0"
   ]
  },
  {
   "cell_type": "code",
   "execution_count": 5,
   "metadata": {},
   "outputs": [],
   "source": [
    "# Rotating Frame\n",
    "\n",
    "def cart2pol(x, y):\n",
    "    rho = np.sqrt(x**2 + y**2)\n",
    "    phi = np.arctan2(y, x)\n",
    "    return(rho, phi)\n",
    "\n",
    "def pol2cart(rho, phi):\n",
    "    x = rho * np.cos(phi)\n",
    "    y = rho * np.sin(phi)\n",
    "    return(x, y)\n",
    "\n",
    "def rot(vec):\n",
    "    x1 = vec[:,0]\n",
    "    y1 = vec[:,1]\n",
    "    x2 = vec[:,6]\n",
    "    y2 = vec[:,7]\n",
    "    x3 = vec[:,12]\n",
    "    y3 = vec[:,13]\n",
    "    \n",
    "    r1, p1 = cart2pol(x1,y1)\n",
    "    r2, p2 = cart2pol(x2,y2)\n",
    "    r3, p3 = cart2pol(x3,y3)\n",
    "    \n",
    "    p1 = p1 - p2\n",
    "    p3 = p3 - p2\n",
    "    p2 = 0\n",
    "    \n",
    "    x1, y1 = pol2cart(r1,p1)\n",
    "    x2, y2 = pol2cart(r2,p2)\n",
    "    x3, y3 = pol2cart(r3,p3)\n",
    "    \n",
    "    \n",
    "    vec[:,0] = x1\n",
    "    vec[:,1] = y1\n",
    "    vec[:,6] = x2\n",
    "    vec[:,7] = y2\n",
    "    vec[:,12] = x3\n",
    "    vec[:,13] = y3\n",
    "    \n",
    "    return vec\n",
    "\n"
   ]
  },
  {
   "cell_type": "code",
   "execution_count": 6,
   "metadata": {},
   "outputs": [],
   "source": [
    "def plot(vec):\n",
    "    x1, y1, z1, vx1, vy1, vz1 = vec[:,0], vec[:,1], vec[:,2], vec[:,3], vec[:,4], vec[:,5] \n",
    "    x2, y2, z2, vx2, vy2, vz2 = vec[:,6], vec[:,7], vec[:,8], vec[:,9], vec[:,10], vec[:,11]\n",
    "    x3, y3, z3, vx3, vy3, vz3 = vec[:,12], vec[:,13], vec[:,14], vec[:,15], vec[:,16], vec[:,17]\n",
    "\n",
    "    print('3')\n",
    "    \n",
    "    plt.figure(figsize = (20, 10))\n",
    "    plt.plot(x1, y1, label = \"Object 1\")\n",
    "    plt.plot(x2, y2, label = \"Object 2\")\n",
    "    \n",
    "    print('uwu')\n",
    "    \n",
    "    plt.plot(x3, y3, label = \"Orbit\")\n",
    "    #plt.ylim(-1, 1)\n",
    "    plt.xlabel('x (AU)')\n",
    "    plt.ylabel('y (AU)')\n",
    "    \n",
    "    print('OwO')\n",
    "    plt.gca().set_aspect('equal')\n",
    "    plt.legend(loc = 2)\n",
    "    plt.show()\n",
    "    \n",
    "    print('Kill me')\n",
    "    return None"
   ]
  },
  {
   "cell_type": "code",
   "execution_count": 11,
   "metadata": {
    "scrolled": false
   },
   "outputs": [
    {
     "data": {
      "image/png": "[encoded data removed]",
      "text/plain": [
       "<Figure size 1440x720 with 1 Axes>"
      ]
     },
     "metadata": {
      "needs_background": "light"
     },
     "output_type": "display_data"
    }
   ],
   "source": [
    "# Test Case\n",
    "\n",
    "M1, M2, M3, G = np.ones(4)\n",
    "\n",
    "vec0 = np.zeros(18)\n",
    "vec0[0] = -1\n",
    "vec0[3] = 0\n",
    "vec0[4] = 0\n",
    "vec0[6] = 1\n",
    "vec0[9] = 0\n",
    "vec0[10] = 0\n",
    "vec0[15] = 0\n",
    "vec0[16] = 0\n",
    "\n",
    "tarr = np.linspace(0,0.9,500)\n",
    "ans = integrate.odeint(df_3body_ast, vec0, tarr, args = (M1,M2,M3,G))\n",
    "plot(ans)"
   ]
  },
  {
   "cell_type": "markdown",
   "metadata": {},
   "source": [
    "## TEST\n",
    "\n",
    "## REMOVE E LATER"
   ]
  },
  {
   "cell_type": "code",
   "execution_count": 11,
   "metadata": {},
   "outputs": [],
   "source": [
    "M1, M2, M3, G = 1, 1e-3, 0, 4 * np.pi**2 \n",
    "\n",
    "r = 1\n",
    "M = M1 + M2\n",
    "r1 = M2 / M * r\n",
    "r2 = M1 / M * r\n",
    "P = np.sqrt(r**3 / M)\n",
    "v = np.sqrt(G * M / r)\n",
    "v1 = M2 / M * v\n",
    "v2 = M1 / M * v\n",
    "\n",
    "r3 = r*(1+(5/12)*(M2/(M1+M2)))\n",
    "\n",
    "v3 =  2*np.pi*r3/P #L3\n",
    "\n",
    "\n",
    "vec0 = np.zeros(18)\n",
    "vec0[0] = r1\n",
    "vec0[3] = 0\n",
    "vec0[4] = v1\n",
    "vec0[6] = -r2\n",
    "vec0[9] = 0\n",
    "vec0[10] = -v2\n",
    "vec0[12] = r3\n",
    "vec0[15] = 0\n",
    "vec0[16] = v3\n",
    "\n",
    "#vecCM = CoM(vec0, M1, M2, M3)\n",
    "\n",
    "time = np.linspace(0, P, 500)\n",
    "\n",
    "ans = integrate.odeint(df_3body_ast, vec0, time, args = (M1, M2, M3, G))\n",
    "\n",
    "vecRT = rot(ans)"
   ]
  },
  {
   "cell_type": "code",
   "execution_count": 13,
   "metadata": {},
   "outputs": [
    {
     "name": "stdout",
     "output_type": "stream",
     "text": [
      "3\n",
      "uwu\n",
      "OwO\n"
     ]
    },
    {
     "data": {
      "image/png": "[encoded data removed]",
      "text/plain": [
       "<Figure size 1440x720 with 1 Axes>"
      ]
     },
     "metadata": {
      "needs_background": "light"
     },
     "output_type": "display_data"
    },
    {
     "name": "stdout",
     "output_type": "stream",
     "text": [
      "Kill me\n"
     ]
    }
   ],
   "source": [
    "plot(ans)"
   ]
  },
  {
   "cell_type": "code",
   "execution_count": 60,
   "metadata": {},
   "outputs": [
    {
     "ename": "NameError",
     "evalue": "name 'P' is not defined",
     "output_type": "error",
     "traceback": [
      "\u001b[1;31m---------------------------------------------------------------------------\u001b[0m",
      "\u001b[1;31mNameError\u001b[0m                                 Traceback (most recent call last)",
      "\u001b[1;32m<ipython-input-60-d6affb7f64b1>\u001b[0m in \u001b[0;36m<module>\u001b[1;34m\u001b[0m\n\u001b[0;32m     13\u001b[0m \u001b[0mvec0\u001b[0m\u001b[1;33m[\u001b[0m\u001b[1;36m16\u001b[0m\u001b[1;33m]\u001b[0m \u001b[1;33m=\u001b[0m \u001b[1;33m-\u001b[0m\u001b[1;36m2\u001b[0m\u001b[1;33m*\u001b[0m\u001b[0mp2\u001b[0m\u001b[1;33m\u001b[0m\u001b[1;33m\u001b[0m\u001b[0m\n\u001b[0;32m     14\u001b[0m \u001b[1;33m\u001b[0m\u001b[0m\n\u001b[1;32m---> 15\u001b[1;33m \u001b[0mtarr\u001b[0m \u001b[1;33m=\u001b[0m \u001b[0mnp\u001b[0m\u001b[1;33m.\u001b[0m\u001b[0mlinspace\u001b[0m\u001b[1;33m(\u001b[0m\u001b[1;36m0\u001b[0m\u001b[1;33m,\u001b[0m \u001b[0mP\u001b[0m\u001b[1;33m,\u001b[0m \u001b[1;36m10000\u001b[0m\u001b[1;33m)\u001b[0m\u001b[1;33m\u001b[0m\u001b[1;33m\u001b[0m\u001b[0m\n\u001b[0m\u001b[0;32m     16\u001b[0m \u001b[0mans\u001b[0m \u001b[1;33m=\u001b[0m \u001b[0mintegrate\u001b[0m\u001b[1;33m.\u001b[0m\u001b[0modeint\u001b[0m\u001b[1;33m(\u001b[0m\u001b[0mdf_3body_ast\u001b[0m\u001b[1;33m,\u001b[0m \u001b[0mvec0\u001b[0m\u001b[1;33m,\u001b[0m \u001b[0mtarr\u001b[0m\u001b[1;33m,\u001b[0m \u001b[0margs\u001b[0m\u001b[1;33m=\u001b[0m\u001b[1;33m(\u001b[0m\u001b[0mM1\u001b[0m\u001b[1;33m,\u001b[0m \u001b[0mM2\u001b[0m\u001b[1;33m,\u001b[0m \u001b[0mM3\u001b[0m\u001b[1;33m,\u001b[0m\u001b[0mG\u001b[0m\u001b[1;33m)\u001b[0m\u001b[1;33m)\u001b[0m\u001b[1;33m\u001b[0m\u001b[1;33m\u001b[0m\u001b[0m\n\u001b[0;32m     17\u001b[0m \u001b[1;33m\u001b[0m\u001b[0m\n",
      "\u001b[1;31mNameError\u001b[0m: name 'P' is not defined"
     ]
    }
   ],
   "source": [
    "M1,M2,M3, G = np.ones(4)\n",
    "p1 = 0.416822\n",
    "p2 = 0.330333\n",
    "\n",
    "vec0 = np.zeros(18)\n",
    "vec0[0] = -1\n",
    "vec0[3] = p1\n",
    "vec0[4] = p2\n",
    "vec0[6] = 1\n",
    "vec0[9] = p1\n",
    "vec0[10] = p2\n",
    "vec0[15] = -2*p1\n",
    "vec0[16] = -2*p2\n",
    "\n",
    "tarr = np.linspace(0, P, 10000)\n",
    "ans = integrate.odeint(df_3body_ast, vec0, tarr, args=(M1, M2, M3,G))\n",
    "\n",
    "x1 = ans[:,0]\n",
    "y1 = ans[:,1]\n",
    "x2 = ans[:,6]\n",
    "y2 = ans[:,7]\n",
    "\n",
    "#The Plot\n",
    "plt.figure(figsize=(6,6))\n",
    "plt.plot(x1,y1)\n",
    "plt.plot(x2,y2)\n",
    "plt.xlabel('x')\n",
    "plt.ylabel('y')\n",
    "plt.gca().set_aspect('equal')\n",
    "plt.show()"
   ]
  },
  {
   "cell_type": "code",
   "execution_count": 19,
   "metadata": {},
   "outputs": [
    {
     "data": {
      "image/png": "[encoded data removed]",
      "text/plain": [
       "<Figure size 1440x720 with 1 Axes>"
      ]
     },
     "metadata": {
      "needs_background": "light"
     },
     "output_type": "display_data"
    }
   ],
   "source": [
    "M1, M2, M3, G = np.ones(4)\n",
    "p1 = 0.34711\n",
    "p2 = 0.532728\n",
    "\n",
    "vec0 = np.zeros(18)\n",
    "vec0[0] = -1\n",
    "vec0[3] = p1\n",
    "vec0[4] = p2\n",
    "vec0[6] = 1\n",
    "vec0[9] = p1\n",
    "vec0[10] = p2\n",
    "vec0[15] = -2*p1\n",
    "vec0[16] = -2*p2\n",
    "\n",
    "#vecCM = CoM(vec0, M1, M2, M3)\n",
    "\n",
    "time = np.linspace(0, 6.32449, 500)\n",
    "\n",
    "vecCM = integrate.odeint(df_3body_ast, vec0, time, args = (M1, M2, M3, G))\n",
    "plot(vecCM)"
   ]
  },
  {
   "cell_type": "code",
   "execution_count": 19,
   "metadata": {},
   "outputs": [
    {
     "ename": "TypeError",
     "evalue": "df_3body_ast() missing 1 required positional argument: 'G'",
     "output_type": "error",
     "traceback": [
      "\u001b[1;31m---------------------------------------------------------------------------\u001b[0m",
      "\u001b[1;31mTypeError\u001b[0m                                 Traceback (most recent call last)",
      "\u001b[1;32m<ipython-input-19-61b0698ea407>\u001b[0m in \u001b[0;36m<module>\u001b[1;34m\u001b[0m\n\u001b[0;32m     11\u001b[0m \u001b[0mvec0\u001b[0m \u001b[1;33m=\u001b[0m \u001b[0mCoM\u001b[0m\u001b[1;33m(\u001b[0m\u001b[0mvec0\u001b[0m\u001b[1;33m,\u001b[0m \u001b[0mM1\u001b[0m\u001b[1;33m,\u001b[0m \u001b[0mM2\u001b[0m\u001b[1;33m,\u001b[0m \u001b[0mM3\u001b[0m\u001b[1;33m)\u001b[0m\u001b[1;33m\u001b[0m\u001b[1;33m\u001b[0m\u001b[0m\n\u001b[0;32m     12\u001b[0m \u001b[0mtarr\u001b[0m \u001b[1;33m=\u001b[0m \u001b[0mnp\u001b[0m\u001b[1;33m.\u001b[0m\u001b[0mlinspace\u001b[0m\u001b[1;33m(\u001b[0m\u001b[1;36m0\u001b[0m\u001b[1;33m,\u001b[0m \u001b[0mP\u001b[0m\u001b[1;33m,\u001b[0m \u001b[1;36m10000\u001b[0m\u001b[1;33m)\u001b[0m\u001b[1;33m\u001b[0m\u001b[1;33m\u001b[0m\u001b[0m\n\u001b[1;32m---> 13\u001b[1;33m \u001b[0mans\u001b[0m \u001b[1;33m=\u001b[0m \u001b[0mintegrate\u001b[0m\u001b[1;33m.\u001b[0m\u001b[0modeint\u001b[0m\u001b[1;33m(\u001b[0m\u001b[0mdf_3body_ast\u001b[0m\u001b[1;33m,\u001b[0m \u001b[0mvec0\u001b[0m\u001b[1;33m,\u001b[0m \u001b[0mtarr\u001b[0m\u001b[1;33m,\u001b[0m \u001b[0margs\u001b[0m\u001b[1;33m=\u001b[0m\u001b[1;33m(\u001b[0m\u001b[0mM1\u001b[0m\u001b[1;33m,\u001b[0m \u001b[0mM2\u001b[0m\u001b[1;33m,\u001b[0m \u001b[0mM3\u001b[0m\u001b[1;33m)\u001b[0m\u001b[1;33m)\u001b[0m\u001b[1;33m\u001b[0m\u001b[1;33m\u001b[0m\u001b[0m\n\u001b[0m\u001b[0;32m     14\u001b[0m \u001b[1;33m\u001b[0m\u001b[0m\n\u001b[0;32m     15\u001b[0m \u001b[1;33m\u001b[0m\u001b[0m\n",
      "\u001b[1;32m~\\anaconda3\\lib\\site-packages\\scipy\\integrate\\odepack.py\u001b[0m in \u001b[0;36modeint\u001b[1;34m(func, y0, t, args, Dfun, col_deriv, full_output, ml, mu, rtol, atol, tcrit, h0, hmax, hmin, ixpr, mxstep, mxhnil, mxordn, mxords, printmessg, tfirst)\u001b[0m\n\u001b[0;32m    239\u001b[0m     \u001b[0mt\u001b[0m \u001b[1;33m=\u001b[0m \u001b[0mcopy\u001b[0m\u001b[1;33m(\u001b[0m\u001b[0mt\u001b[0m\u001b[1;33m)\u001b[0m\u001b[1;33m\u001b[0m\u001b[1;33m\u001b[0m\u001b[0m\n\u001b[0;32m    240\u001b[0m     \u001b[0my0\u001b[0m \u001b[1;33m=\u001b[0m \u001b[0mcopy\u001b[0m\u001b[1;33m(\u001b[0m\u001b[0my0\u001b[0m\u001b[1;33m)\u001b[0m\u001b[1;33m\u001b[0m\u001b[1;33m\u001b[0m\u001b[0m\n\u001b[1;32m--> 241\u001b[1;33m     output = _odepack.odeint(func, y0, t, args, Dfun, col_deriv, ml, mu,\n\u001b[0m\u001b[0;32m    242\u001b[0m                              \u001b[0mfull_output\u001b[0m\u001b[1;33m,\u001b[0m \u001b[0mrtol\u001b[0m\u001b[1;33m,\u001b[0m \u001b[0matol\u001b[0m\u001b[1;33m,\u001b[0m \u001b[0mtcrit\u001b[0m\u001b[1;33m,\u001b[0m \u001b[0mh0\u001b[0m\u001b[1;33m,\u001b[0m \u001b[0mhmax\u001b[0m\u001b[1;33m,\u001b[0m \u001b[0mhmin\u001b[0m\u001b[1;33m,\u001b[0m\u001b[1;33m\u001b[0m\u001b[1;33m\u001b[0m\u001b[0m\n\u001b[0;32m    243\u001b[0m                              \u001b[0mixpr\u001b[0m\u001b[1;33m,\u001b[0m \u001b[0mmxstep\u001b[0m\u001b[1;33m,\u001b[0m \u001b[0mmxhnil\u001b[0m\u001b[1;33m,\u001b[0m \u001b[0mmxordn\u001b[0m\u001b[1;33m,\u001b[0m \u001b[0mmxords\u001b[0m\u001b[1;33m,\u001b[0m\u001b[1;33m\u001b[0m\u001b[1;33m\u001b[0m\u001b[0m\n",
      "\u001b[1;31mTypeError\u001b[0m: df_3body_ast() missing 1 required positional argument: 'G'"
     ]
    }
   ],
   "source": [
    "r3 = -r2\n",
    "v3 = v2\n",
    "\n",
    "x3 = r3 * np.cos(np.pi/3)\n",
    "y3 = r3 * np.sin(np.pi/3)\n",
    "vx3 = -v3 * np.sin(np.pi/3)\n",
    "vy3 = v3 * np.cos(np.pi/3)\n",
    "\n",
    "vec3 = np.array([x3,y3,0,vx3,vy3,0])\n",
    "\n",
    "vec0 = CoM(vec0, M1, M2, M3)\n",
    "tarr = np.linspace(0, P, 10000)\n",
    "ans = integrate.odeint(df_3body_ast, vec0, tarr, args=(M1, M2, M3))\n",
    "\n"
   ]
  },
  {
   "cell_type": "code",
   "execution_count": 31,
   "metadata": {},
   "outputs": [
    {
     "ename": "NameError",
     "evalue": "name 'vec' is not defined",
     "output_type": "error",
     "traceback": [
      "\u001b[1;31m---------------------------------------------------------------------------\u001b[0m",
      "\u001b[1;31mNameError\u001b[0m                                 Traceback (most recent call last)",
      "\u001b[1;32m<ipython-input-31-c52886b493cc>\u001b[0m in \u001b[0;36m<module>\u001b[1;34m\u001b[0m\n\u001b[0;32m      1\u001b[0m \u001b[1;31m#Plot for L3\u001b[0m\u001b[1;33m\u001b[0m\u001b[1;33m\u001b[0m\u001b[1;33m\u001b[0m\u001b[0m\n\u001b[0;32m      2\u001b[0m \u001b[1;33m\u001b[0m\u001b[0m\n\u001b[1;32m----> 3\u001b[1;33m \u001b[0mx1\u001b[0m \u001b[1;33m=\u001b[0m \u001b[0mvec\u001b[0m\u001b[1;33m[\u001b[0m\u001b[1;33m:\u001b[0m\u001b[1;33m,\u001b[0m\u001b[1;36m0\u001b[0m\u001b[1;33m]\u001b[0m\u001b[1;33m\u001b[0m\u001b[1;33m\u001b[0m\u001b[0m\n\u001b[0m\u001b[0;32m      4\u001b[0m \u001b[0my1\u001b[0m \u001b[1;33m=\u001b[0m \u001b[0mvec\u001b[0m\u001b[1;33m[\u001b[0m\u001b[1;33m:\u001b[0m\u001b[1;33m,\u001b[0m\u001b[1;36m1\u001b[0m\u001b[1;33m]\u001b[0m\u001b[1;33m\u001b[0m\u001b[1;33m\u001b[0m\u001b[0m\n\u001b[0;32m      5\u001b[0m \u001b[0mx2\u001b[0m \u001b[1;33m=\u001b[0m \u001b[0mvec\u001b[0m\u001b[1;33m[\u001b[0m\u001b[1;33m:\u001b[0m\u001b[1;33m,\u001b[0m\u001b[1;36m6\u001b[0m\u001b[1;33m]\u001b[0m\u001b[1;33m\u001b[0m\u001b[1;33m\u001b[0m\u001b[0m\n",
      "\u001b[1;31mNameError\u001b[0m: name 'vec' is not defined"
     ]
    }
   ],
   "source": [
    "#Plot for L3\n",
    "\n",
    "x1 = veclist[:,0]\n",
    "y1 = veclist[:,1]\n",
    "x2 = veclist[:,6]\n",
    "y2 = veclist[:,7]\n",
    "x3 = veclist[:,12]\n",
    "y3 = veclist[:,13]\n",
    "\n",
    "#The Plot\n",
    "plt.figure(figsize=(6,6))\n",
    "plt.plot(x1,y1)\n",
    "plt.plot(x2,y2)\n",
    "plt.plot(x3,y3)\n",
    "plt.xlabel('x')\n",
    "plt.ylabel('y')\n",
    "plt.gca().set_aspect('equal')\n",
    "plt.show()"
   ]
  },
  {
   "cell_type": "code",
   "execution_count": 6,
   "metadata": {},
   "outputs": [],
   "source": [
    "def plot_orbits(vec, legend=True):\n",
    "    \n",
    "    x1 = vec[:,0]\n",
    "    y1 = vec[:,1]\n",
    "    x2 = vec[:,6]\n",
    "    y2 = vec[:,7]\n",
    "    x3 = vec[:,12]\n",
    "    y3 = vec[:,13]\n",
    "\n",
    "    f = plt.figure(figsize=(8,8))\n",
    "    plt.plot(x1, y1, label='$M_1$')\n",
    "    plt.plot(x2, y2, label='$M_2$')\n",
    "    plt.plot(x3, y3, label='$M_3$')\n",
    "    plt.xlabel('x (AU)')\n",
    "    plt.ylabel('y (AU)')\n",
    "    plt.title('Orbits')\n",
    "    plt.gca().set_aspect('equal')\n",
    "    if plt.ylim()[0]>-0.5: plt.ylim(-0.5,plt.ylim()[1])\n",
    "    if plt.ylim()[1]<0.5: plt.ylim(plt.ylim()[0], 0.5)\n",
    "    if legend: plt.legend()\n",
    "    \n",
    "    f.tight_layout()\n",
    "    \n",
    "    return f"
   ]
  },
  {
   "cell_type": "code",
   "execution_count": null,
   "metadata": {},
   "outputs": [],
   "source": []
  }
 ],
 "metadata": {
  "anaconda-cloud": {},
  "kernelspec": {
   "display_name": "Python 3",
   "language": "python",
   "name": "python3"
  },
  "language_info": {
   "codemirror_mode": {
    "name": "ipython",
    "version": 3
   },
   "file_extension": ".py",
   "mimetype": "text/x-python",
   "name": "python",
   "nbconvert_exporter": "python",
   "pygments_lexer": "ipython3",
   "version": "3.8.3"
  }
 },
 "nbformat": 4,
 "nbformat_minor": 2
}
